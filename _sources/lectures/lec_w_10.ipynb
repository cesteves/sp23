{
 "cells": [
  {
   "cell_type": "markdown",
   "id": "3f332fe7",
   "metadata": {},
   "source": [
    "# Week 10\n",
    "\n",
    ":::: {admonition} Agenda\n",
    ":class: attention\n",
    "\n",
    "``` {list-table}\n",
    ":header-rows: 1\n",
    "\n",
    "* - Tuesday\n",
    "  - Thursday\n",
    "* - [Left-Leaning Red-Black Trees](left_leaning_red-black_tree.md)\n",
    "  - [Hash Tables](lectures/hash_tables.md)\n",
    "\n",
    "```\n",
    "\n",
    "::::\n",
    "\n",
    ":::: {admonition} Lab\n",
    ":class: warning\n",
    "\n",
    "- [Balancing Act](labs/lab-09/readme.md)  \n",
    "{octicon}`calendar;1em;sd-text-info` Due before next lab...\n",
    "\n",
    "::::\n",
    "\n",
    ":::: {admonition} Assignment\n",
    ":class: tip\n",
    "\n",
    "- [A4: Recursion & Stacks](assignments/a4/readme.md)  \n",
    "{octicon}`calendar;1em;sd-text-info`  _Week 12_\n",
    "\n",
    "::::\n",
    "\n",
    ":::: {admonition} Projects\n",
    ":class: notes\n",
    "\n",
    "- [DSA](projects/tp_rubric.md)  \n",
    "{octicon}`calendar;1em;sd-text-info`  _Week 14_\n",
    "\n",
    "::::\n",
    "\n",
    "\n",
    "```{list-table}\n",
    "\n",
    "* - {bdg-info}`Lecture`\n",
    "  - [Left-Leaning Red-Black Trees]() <br> [Hash Tables](lectures/hash_tables.md)\n",
    "* - {bdg-warning}`Lab`\n",
    "  - [Balancing Act](labs/lab-09/readme.md)\n",
    "* - {bdg-success}`Assignment`\n",
    "  - [A4: Recursion & Stacks](assignments/a4/readme.md) <br> {octicon}`calendar;1em;sd-text-info`  _Week 12_\n",
    "* - {bdg-primary}`Project`\n",
    "  - [Term Project](projects/review_project_sp23.md) <br> {octicon}`calendar;1em;sd-text-info`  _Week 14_\n",
    "```"
   ]
  }
 ],
 "metadata": {
  "jupytext": {
   "cell_metadata_filter": "-all",
   "formats": "md:myst",
   "text_representation": {
    "extension": ".md",
    "format_name": "myst",
    "format_version": 0.13,
    "jupytext_version": "1.11.5"
   }
  },
  "kernelspec": {
   "display_name": "Python 3",
   "language": "python",
   "name": "python3"
  },
  "language_info": {
   "codemirror_mode": {
    "name": "ipython",
    "version": 3
   },
   "file_extension": ".py",
   "mimetype": "text/x-python",
   "name": "python",
   "nbconvert_exporter": "python",
   "pygments_lexer": "ipython3",
   "version": "3.9.12"
  },
  "source_map": [
   14
  ]
 },
 "nbformat": 4,
 "nbformat_minor": 5
}