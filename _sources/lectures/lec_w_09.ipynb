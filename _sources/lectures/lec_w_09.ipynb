{
 "cells": [
  {
   "cell_type": "markdown",
   "id": "9fb77176",
   "metadata": {},
   "source": [
    "# Week 9\n",
    "\n",
    ":::: {admonition} Agenda\n",
    ":class: attention\n",
    "\n",
    "``` {list-table}\n",
    ":header-rows: 1\n",
    "\n",
    "* - Tuesday\n",
    "  - Thursday\n",
    "* - [Binary Search Trees](bst.md)\n",
    "  - [2-3 Trees](2-3_trees.md)\n",
    "\n",
    "```\n",
    "\n",
    "::::\n",
    "\n",
    ":::: {admonition} Lab\n",
    ":class: warning\n",
    "\n",
    "- [Binary Search Trees](labs/lab-08/readme.md)  \n",
    "{octicon}`calendar;1em;sd-text-info` Due before next lab...\n",
    "\n",
    "::::\n",
    "\n",
    ":::: {admonition} Assignment\n",
    ":class: tip\n",
    "\n",
    "- {bdg-danger}`Due` [A3: Conceptualization I](https://github.com/js-uri/csc-212-fa22/blob/master/homeworks/homework-3/assignment-3.pdf)\n",
    "{octicon}`calendar;1em;sd-text-danger`  _Monday, 11:59p_\n",
    "\n",
    "- [Recursion & Stacks](assignments/a4/readme.md)  \n",
    "{octicon}`calendar;1em;sd-text-info`  _Week 12_\n",
    "\n",
    "::::\n",
    "\n",
    ":::: {admonition} Projects\n",
    ":class: notes\n",
    "\n",
    "- [DSA](projects/tp_rubric.md)  \n",
    "{octicon}`calendar;1em;sd-text-info`  _Week 14_\n",
    "\n",
    "::::"
   ]
  }
 ],
 "metadata": {
  "jupytext": {
   "cell_metadata_filter": "-all",
   "formats": "md:myst",
   "text_representation": {
    "extension": ".md",
    "format_name": "myst",
    "format_version": 0.13,
    "jupytext_version": "1.11.5"
   }
  },
  "kernelspec": {
   "display_name": "Python 3",
   "language": "python",
   "name": "python3"
  },
  "language_info": {
   "codemirror_mode": {
    "name": "ipython",
    "version": 3
   },
   "file_extension": ".py",
   "mimetype": "text/x-python",
   "name": "python",
   "nbconvert_exporter": "python",
   "pygments_lexer": "ipython3",
   "version": "3.9.12"
  },
  "source_map": [
   14
  ]
 },
 "nbformat": 4,
 "nbformat_minor": 5
}