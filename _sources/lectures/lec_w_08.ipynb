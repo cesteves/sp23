{
 "cells": [
  {
   "cell_type": "markdown",
   "id": "a1d6bfc6",
   "metadata": {},
   "source": [
    "# Week 8\n",
    "\n",
    ":::: {admonition} Agenda\n",
    ":class: attention\n",
    "\n",
    "- {bdg-info}`Spring Break`\n",
    "- Have fun!!\n",
    "- Be safe!!\n",
    "\n",
    "::::\n",
    "\n",
    ":::: {admonition} Assignment\n",
    ":class: tip\n",
    "\n",
    "- {bdg-danger}`Due` [A3: Conceptualization I](https://github.com/js-uri/csc-212-fa22/blob/master/homeworks/homework-3/assignment-3.pdf)\n",
    "{octicon}`calendar;1em;sd-text-danger`  _Monday, 11:59p_\n",
    "\n",
    "- [Recursion & Stacks](assignments/a4/readme.md)  \n",
    "{octicon}`calendar;1em;sd-text-info`  _Week 12_\n",
    "\n",
    "::::\n",
    "\n",
    ":::: {admonition} Projects\n",
    ":class: notes\n",
    "\n",
    "- [DSA](projects/tp_rubric.md)  \n",
    "{octicon}`calendar;1em;sd-text-info`  _Week 14_\n",
    "\n",
    "::::"
   ]
  }
 ],
 "metadata": {
  "jupytext": {
   "cell_metadata_filter": "-all",
   "formats": "md:myst",
   "text_representation": {
    "extension": ".md",
    "format_name": "myst",
    "format_version": 0.13,
    "jupytext_version": "1.11.5"
   }
  },
  "kernelspec": {
   "display_name": "Python 3",
   "language": "python",
   "name": "python3"
  },
  "language_info": {
   "codemirror_mode": {
    "name": "ipython",
    "version": 3
   },
   "file_extension": ".py",
   "mimetype": "text/x-python",
   "name": "python",
   "nbconvert_exporter": "python",
   "pygments_lexer": "ipython3",
   "version": "3.9.12"
  },
  "source_map": [
   14
  ]
 },
 "nbformat": 4,
 "nbformat_minor": 5
}