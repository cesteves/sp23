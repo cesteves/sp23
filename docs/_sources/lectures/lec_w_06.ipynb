{
 "cells": [
  {
   "cell_type": "markdown",
   "id": "d1c5de5c",
   "metadata": {},
   "source": [
    "# Week 6\n",
    "\n",
    "```` {admonition} Agenda\n",
    ":class: attention\n",
    "\n",
    "``` {list-table}\n",
    ":header-rows: 1\n",
    "\n",
    "* - Tuesday\n",
    "  - Thursday\n",
    "* - [Analyzing Recursive Algorithms](recursive_algo_analysis.md)\n",
    "  - [Recurrences](recurrences.md)\n",
    "\n",
    "```\n",
    "\n",
    "````\n",
    "\n",
    "```` {admonition} Action Items\n",
    ":class: warning\n",
    "\n",
    "``` {list-table} \n",
    ":header-rows: 1\n",
    "* - Lab\n",
    "  - Assignment\n",
    "  - Project\n",
    "* - [Backtracking](../labs/lab-06/readme.md)<br>{octicon}`calendar;1em;sd-text-info` Due before next lab...\n",
    "  - [A3: Conceptualization I](../assignments/a3/readme.md)<br>{octicon}`calendar;1em;sd-text-info` _Week 7_\n",
    "  - {bdg-danger}`Due` [Gradebook](../projects/review_project_sp23.md)<br>{octicon}`calendar;1em;sd-text-danger` _Monday, 11:59p_\n",
    "* - \n",
    "  - \n",
    "  - [DSA](../projects/tp_rubric.md)<br>{octicon}`calendar;1em;sd-text-info`  _Week 14_\n",
    "```\n",
    "````"
   ]
  }
 ],
 "metadata": {
  "jupytext": {
   "cell_metadata_filter": "-all",
   "formats": "md:myst",
   "text_representation": {
    "extension": ".md",
    "format_name": "myst",
    "format_version": 0.13,
    "jupytext_version": "1.11.5"
   }
  },
  "kernelspec": {
   "display_name": "Python 3",
   "language": "python",
   "name": "python3"
  },
  "language_info": {
   "codemirror_mode": {
    "name": "ipython",
    "version": 3
   },
   "file_extension": ".py",
   "mimetype": "text/x-python",
   "name": "python",
   "nbconvert_exporter": "python",
   "pygments_lexer": "ipython3",
   "version": "3.9.12"
  },
  "source_map": [
   14
  ]
 },
 "nbformat": 4,
 "nbformat_minor": 5
}