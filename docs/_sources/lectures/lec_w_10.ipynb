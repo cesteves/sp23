{
 "cells": [
  {
   "cell_type": "markdown",
   "id": "9e09cdad",
   "metadata": {},
   "source": [
    "# Week 10\n",
    "\n",
    "```` {admonition} Agenda\n",
    ":class: attention\n",
    "\n",
    "``` {list-table}\n",
    ":header-rows: 1\n",
    "\n",
    "* - Tuesday\n",
    "  - Thursday\n",
    "* - [2-3 Trees](2-3_trees.md)\n",
    "  - [Left-Leaning Red-Black Trees](left_lean_red-black_tree.md)\n",
    "\n",
    "```\n",
    "\n",
    "````\n",
    "\n",
    "```` {admonition} Action Items\n",
    ":class: warning\n",
    "\n",
    "``` {list-table} \n",
    ":header-rows: 1\n",
    "* - Lab\n",
    "  - Assignment\n",
    "  - Project\n",
    "* - [Balancing Act](../labs/lab-09/readme.md) <br>{octicon}`calendar;1em;sd-text-info` Due before next lab...\n",
    "  - {bdg-danger}`Due` [Recursion & Stacks](../assignments/a4/readme.md)<br>{octicon}`calendar;1em;sd-text-danger`  _Monday, 11:59p_\n",
    "  - [DSA](../projects/tp_rubric.md)<br>{octicon}`calendar;1em;sd-text-info`  _Week 14_\n",
    "* - \n",
    "  - [A5: Conceptualization II](../assignments/a5/readme.md)<br>{octicon}`calendar;1em;sd-text-info` _Week 13_\n",
    "  - \n",
    "```\n",
    "````"
   ]
  }
 ],
 "metadata": {
  "jupytext": {
   "cell_metadata_filter": "-all",
   "formats": "md:myst",
   "text_representation": {
    "extension": ".md",
    "format_name": "myst",
    "format_version": 0.13,
    "jupytext_version": "1.11.5"
   }
  },
  "kernelspec": {
   "display_name": "Python 3",
   "language": "python",
   "name": "python3"
  },
  "language_info": {
   "codemirror_mode": {
    "name": "ipython",
    "version": 3
   },
   "file_extension": ".py",
   "mimetype": "text/x-python",
   "name": "python",
   "nbconvert_exporter": "python",
   "pygments_lexer": "ipython3",
   "version": "3.9.12"
  },
  "source_map": [
   14
  ]
 },
 "nbformat": 4,
 "nbformat_minor": 5
}