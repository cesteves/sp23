{
 "cells": [
  {
   "cell_type": "markdown",
   "id": "ec3ffa15",
   "metadata": {},
   "source": [
    "# Start Here\n",
    "\n",
    "<!-- # CSC 212: Data Structures & Algorithms -->\n",
    "\n",
    "---\n",
    "\n",
    "````{admonition} Welcome!!\n",
    "```cpp\n",
    "#include <iostream>\n",
    "\n",
    "int main () {\n",
    "    std::cout << \"Hello Class!!\"\n",
    "              << \"Welcome to Data Structures\"\n",
    "              << \"Please review the syllabus, lectures, and assignments...\"\n",
    "              << \"The syllabus governs the course and the schedule.\"\n",
    "              << Action item links found in each respective week's landing page.\"\n",
    "    return 0; \n",
    "}\n",
    "```\n",
    "```{list-table}\n",
    "\n",
    "* - {bdg-info}`Lecture`\n",
    "  -  Coastal Institute AUD 100 <br> {octicon}`calendar;1em;sd-text-info` Tuesday & Thursday 3:30 - 4:45p\n",
    "* - {bdg-warning}`Lab`\n",
    "  - Section L01 <br> Library Room 166 <br> {octicon}`calendar;1em;sd-text-info` Wednesday 10:00 - 11:45a <br><br> Section L02 <br> Library Room 166 <br> {octicon}`calendar;1em;sd-text-info` Wednesday 12:00 - 21:45p\n",
    "```\n",
    "````\n",
    "\n",
    "```{epigraph}\n",
    "I will, in fact, claim that the difference between a bad programmer and a good one is whether he considers his code or his data structures more important. Bad programmers worry about the code. Good programmers worry about data structures and their relationships.\n",
    "\n",
    "-- Linus Torvalds\n",
    "```\n",
    "\n",
    "```{epigraph}\n",
    "The best programs are written so that computing machines can perform them quickly and so that human beings can understand them clearly. A programmer is ideally an essayist who works with traditional aesthetic and literary forms as well as mathematical concepts, to communicate the way that an algorithm works and to convince a reader that the results will be correct.\n",
    "\n",
    "-- Donald Knuth\n",
    "```"
   ]
  }
 ],
 "metadata": {
  "jupytext": {
   "cell_metadata_filter": "-all",
   "formats": "md:myst",
   "text_representation": {
    "extension": ".md",
    "format_name": "myst",
    "format_version": 0.13,
    "jupytext_version": "1.11.5"
   }
  },
  "kernelspec": {
   "display_name": "Python 3",
   "language": "python",
   "name": "python3"
  },
  "language_info": {
   "codemirror_mode": {
    "name": "ipython",
    "version": 3
   },
   "file_extension": ".py",
   "mimetype": "text/x-python",
   "name": "python",
   "nbconvert_exporter": "python",
   "pygments_lexer": "ipython3",
   "version": "3.9.12"
  },
  "source_map": [
   14
  ]
 },
 "nbformat": 4,
 "nbformat_minor": 5
}