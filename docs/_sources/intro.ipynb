{
 "cells": [
  {
   "cell_type": "markdown",
   "id": "8a27dcef",
   "metadata": {},
   "source": [
    "# Course Overview\n",
    "\n",
    "<!-- # CSC 212: Data Structures & Algorithms -->\n",
    "\n",
    "---\n",
    "\n",
    "```{admonition} Welcome!!\n",
    "```cpp\n",
    "#include <iostream>\n",
    "\n",
    "int main () {\n",
    "    std::cout << \"Hello Class!!\"\n",
    "              << \"Welcome to Data Structures\"\n",
    "              << \"Please review: start here, syllabus, and schedule...\"\n",
    "              << \"The syllabus governs the course and the schedule\"\n",
    "              << \"is linked to each of your deliverables for the term.\"\n",
    "    return 0; \n",
    "}\n",
    "```\n",
    "\n",
    "```{epigraph}\n",
    "I will, in fact, claim that the difference between a bad programmer and a good one is whether he considers his code or his data structures more important. Bad programmers worry about the code. Good programmers worry about data structures and their relationships.\n",
    "\n",
    "-- Linus Torvalds\n",
    "```\n",
    "\n",
    "```{epigraph}\n",
    "The best programs are written so that computing machines can perform them quickly and so that human beings can understand them clearly. A programmer is ideally an essayist who works with traditional aesthetic and literary forms as well as mathematical concepts, to communicate the way that an algorithm works and to convince a reader that the results will be correct.\n",
    "\n",
    "-- Donald Knuth\n",
    "```"
   ]
  }
 ],
 "metadata": {
  "jupytext": {
   "cell_metadata_filter": "-all",
   "formats": "md:myst",
   "text_representation": {
    "extension": ".md",
    "format_name": "myst",
    "format_version": 0.13,
    "jupytext_version": "1.11.5"
   }
  },
  "kernelspec": {
   "display_name": "Python 3",
   "language": "python",
   "name": "python3"
  },
  "language_info": {
   "codemirror_mode": {
    "name": "ipython",
    "version": 3
   },
   "file_extension": ".py",
   "mimetype": "text/x-python",
   "name": "python",
   "nbconvert_exporter": "python",
   "pygments_lexer": "ipython3",
   "version": "3.9.12"
  },
  "source_map": [
   14
  ]
 },
 "nbformat": 4,
 "nbformat_minor": 5
}