{
 "cells": [
  {
   "cell_type": "markdown",
   "id": "00368acc",
   "metadata": {},
   "source": [
    "# Introduction\n",
    "\n",
    "{sub-ref}`today` | {sub-ref}`wordcount-words` words | {sub-ref}`wordcount-minutes` min read\n",
    "\n",
    "<hr>\n",
    "\n",
    "## Analysis of Algorithms\n",
    "\n",
    "### Problem, algorithm, and program\n",
    "\n",
    "```{glossary}\n",
    "Problem\n",
    "  A task to be performed\n",
    "\n",
    "Algorithm\n",
    "  A sequence of steps to solve a problem\n",
    "\n",
    "Program\n",
    "  A representation of an algorithm in some programming language\n",
    "```\n",
    "\n",
    "## Timing Algorithms"
   ]
  }
 ],
 "metadata": {
  "jupytext": {
   "cell_metadata_filter": "-all",
   "formats": "md:myst",
   "text_representation": {
    "extension": ".md",
    "format_name": "myst",
    "format_version": 0.13,
    "jupytext_version": "1.11.5"
   }
  },
  "kernelspec": {
   "display_name": "Python 3",
   "language": "python",
   "name": "python3"
  },
  "language_info": {
   "codemirror_mode": {
    "name": "ipython",
    "version": 3
   },
   "file_extension": ".py",
   "mimetype": "text/x-python",
   "name": "python",
   "nbconvert_exporter": "python",
   "pygments_lexer": "ipython3",
   "version": "3.9.12"
  },
  "source_map": [
   14
  ]
 },
 "nbformat": 4,
 "nbformat_minor": 5
}