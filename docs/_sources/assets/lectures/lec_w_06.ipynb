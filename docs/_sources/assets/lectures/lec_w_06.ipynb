{
 "cells": [
  {
   "cell_type": "markdown",
   "id": "1abdf93c",
   "metadata": {},
   "source": [
    "# Week 6\n",
    "\n",
    ":::: {admonition} Agenda\n",
    ":class: attention\n",
    "\n",
    "``` {list-table}\n",
    ":header-rows: 1\n",
    "\n",
    "* - Tuesday\n",
    "  - Thursday\n",
    "* - [Recurrences]()\n",
    "  - [Mergesort]()\n",
    "\n",
    "```\n",
    "\n",
    "::::\n",
    "\n",
    ":::: {admonition} Lab\n",
    ":class: warning\n",
    "\n",
    "- [Backtracking](labs/lab-06/readme.md))  \n",
    "{octicon}`calendar;1em;sd-text-info` Due before next lab...\n",
    "\n",
    "::::\n",
    "\n",
    ":::: {admonition} Assignment\n",
    ":class: tip\n",
    "\n",
    "- {bdg-danger}`Due` [Maze Generation](assignments/a2/readme.md)  \n",
    "{octicon}`calendar;1em;sd-text-danger`  _Monday, 11:59p_\n",
    "\n",
    "[A3: Conceptualization I](https://github.com/js-uri/csc-212-fa22/blob/master/homeworks/homework-3/assignment-3.pdf)\n",
    "{octicon}`calendar;1em;sd-text-info` _Week 9_\n",
    "\n",
    "::::\n",
    "\n",
    ":::: {admonition} Projects\n",
    ":class: notes\n",
    "\n",
    "- [DSA](projects/tp_rubric.md)  \n",
    "{octicon}`calendar;1em;sd-text-info`  _Week 14_\n",
    "\n",
    "::::"
   ]
  }
 ],
 "metadata": {
  "jupytext": {
   "cell_metadata_filter": "-all",
   "formats": "md:myst",
   "text_representation": {
    "extension": ".md",
    "format_name": "myst",
    "format_version": 0.13,
    "jupytext_version": "1.11.5"
   }
  },
  "kernelspec": {
   "display_name": "Python 3",
   "language": "python",
   "name": "python3"
  },
  "language_info": {
   "codemirror_mode": {
    "name": "ipython",
    "version": 3
   },
   "file_extension": ".py",
   "mimetype": "text/x-python",
   "name": "python",
   "nbconvert_exporter": "python",
   "pygments_lexer": "ipython3",
   "version": "3.9.12"
  },
  "source_map": [
   14
  ]
 },
 "nbformat": 4,
 "nbformat_minor": 5
}