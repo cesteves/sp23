{
 "cells": [
  {
   "cell_type": "markdown",
   "id": "15ba2c16",
   "metadata": {},
   "source": [
    "# Week 2\n",
    "\n",
    ":::: {admonition} Agenda\n",
    ":class: attention\n",
    "\n",
    "``` {list-table}\n",
    ":header-rows: 1\n",
    "\n",
    "* - Tuesday\n",
    "  - Thursday\n",
    "* - [Analysis of Algorithms](algo_analysis.md)\n",
    "  - [Computational Cost](computational_cost.md) <br> [Big-Oh Notation](big-o.md)\n",
    "\n",
    "```\n",
    "\n",
    "::::\n",
    "\n",
    ":::: {admonition} Lab\n",
    ":class: warning\n",
    "\n",
    "- [Function Runtime Timing](labs/lab-02/readme.md)  \n",
    "{octicon}`calendar;1em;sd-text-info` Due before next lab...\n",
    "\n",
    "::::\n",
    "\n",
    ":::: {admonition} Assignment\n",
    ":class: tip\n",
    "\n",
    "- [A1: Binarization & Threshholding](assignments/a1/readme.md)  \n",
    "{octicon}`calendar;1em;sd-text-info` _Week 3_\n",
    "\n",
    "::::\n",
    "\n",
    ":::: {admonition} Projects\n",
    ":class: notes\n",
    "\n",
    "- [Gradebook](projects/review_project_sp23.md)  \n",
    "{octicon}`calendar;1em;sd-text-info`  _Week 5_\n",
    "\n",
    "::::"
   ]
  }
 ],
 "metadata": {
  "jupytext": {
   "cell_metadata_filter": "-all",
   "formats": "md:myst",
   "text_representation": {
    "extension": ".md",
    "format_name": "myst",
    "format_version": 0.13,
    "jupytext_version": "1.11.5"
   }
  },
  "kernelspec": {
   "display_name": "Python 3",
   "language": "python",
   "name": "python3"
  },
  "language_info": {
   "codemirror_mode": {
    "name": "ipython",
    "version": 3
   },
   "file_extension": ".py",
   "mimetype": "text/x-python",
   "name": "python",
   "nbconvert_exporter": "python",
   "pygments_lexer": "ipython3",
   "version": "3.9.12"
  },
  "source_map": [
   14
  ]
 },
 "nbformat": 4,
 "nbformat_minor": 5
}