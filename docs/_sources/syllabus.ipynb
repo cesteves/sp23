{
 "cells": [
  {
   "cell_type": "markdown",
   "id": "76abfa57",
   "metadata": {},
   "source": [
    "# Syllabus\n",
    "\n",
    "__Course Description__\n",
    "\n",
    "CSC 212 introduces fundamental concepts in data structures and algorithms, and their role in organizing and processing information efficiently. The course explores theoretical, implementation, and application aspects of important data structures and algorithms in use on modern computers. Particular emphasis is given to algorithms for searching and sorting. The course also covers basic concepts for analyzing space and time requirements of algorithms, critical for understanding their performance characteristics. C/C++ is the programming language required for programming assignments and lab sessions. _Prerequisites: C- or better in CSC 211; and MTH 180 or Computer Engineering major._\n",
    "\n",
    "__Course Info and Schedule__\n",
    "\n",
    "- Instructor: Jonathan Schrader\n",
    "- Lectures: TR 11 - 12:15p\n",
    "- Labs: W 12 - 1:45p and F 10 - 11:45a\n",
    "- TAs: Christian Esteves\n",
    "\n",
    "__Support Tools and Technology__\n",
    "\n",
    "Students in this class will use the following platforms for communication, assignments, grading, and code development. All students are required to use their primary email from eCampus for entering Piazza and Gradescope. We automatically register students.\n",
    "\n",
    "__Student Learning Outcomes__\n",
    "\n",
    "Upon successful completion of this course, each student will be able to:\n",
    "\n",
    "- implement code using pointers and dynamic memory allocation;\n",
    "- implement solutions that involve recursive functions;\n",
    "- compare different algorithms and data structures based on efficiency, using empirical and theoretical algorithm analysis techniques;\n",
    "- choose appropriate data structures and algorithms to solve a problem;\n",
    "- implement sorting algorithms and understand their performance under different scenarios;\n",
    "- implement and use basic data structures, including linked lists, stacks, queues, priority queues, trees, balanced trees, and graphs;\n",
    "- implement and use containers such as sets, maps, and hash tables.\n",
    "\n",
    "__Recommended Textbooks__\n",
    "\n",
    "- [Data Structures & Algorithm Analysis in C++, 4th Ed., M. A. Weiss](https://www.pearsonhighered.com/program/Weiss-Data-Structures-and-Algorithm-Analysis-in-C-4th-Edition/PGM148299.html)\n",
    "- [Introduction to Algorithms, 3rd Ed., T. H. Cormen, C. E. Leiserson, R. L. Rivest, C. Stein](https://mitpress.mit.edu/books/introduction-algorithms)\n",
    "- [Algorithms, 4th Ed., R. Sedgewick, K. Wayne](http://algs4.cs.princeton.edu/home/)\n",
    "- [Algorithm Design and Applications, 1st Ed, M. T. Goodrich, R. Tamassia](http://www.wiley.com/WileyCDA/WileyTitle/productCd-EHEP003198.html)\n",
    "- [Open Data Structures and Algorithms, open source hypertextbook](https://opendsa-server.cs.vt.edu/ODSA/Books/Everything/html/index.html)\n",
    "\n",
    "__Lab Sessions__\n",
    " \n",
    "Lab sessions will be held on Wednesdays and Fridays. Lab sessions may involve short lectures on specific topics or live coding sessions given by TAs and instructors, followed by a set of exercises or problems. Students are required to solve all given exercises within the time allocated for the lab and turn in solutions through Gradescope by the due time. Lab work is individual and the solutions will not be graded, however, attendance to labs is part of the final grade and your submitted solutions will be used to track attendance.\n",
    "\n",
    "__Final Project__\n",
    "\n",
    "The Final Project is to be done in groups of 3 students. The goal is to develop an application involving some of the algorithms and data structures studied during the semester. Your group will select a project from the list posted by the instructors. Most of the projects will require auxiliary reading and continuous effort throughout the semester. A good amount of extra-credit will be assigned to outstanding projects. Two lab sessions will be reserved for live presentations of your final projects by the end of the semester.\n",
    "\n",
    "__Grading__\n",
    "\n",
    "| Task | Breakout | Weight [each / total] |\n",
    "| --: | :--: | :--: |\n",
    "| Lab | 10 | 7% / 70% |\n",
    "| Term Project | 1 | 30% |\n",
    "\n",
    "````{panels}\n",
    "Panel header 1\n",
    "^^^\n",
    "Panel body 1\n",
    "+++\n",
    "Panel footer 1\n",
    "---\n",
    "\n",
    "Panel header 2\n",
    "^^^\n",
    "Panel body 2\n",
    "+++\n",
    "Panel footer 2\n",
    "````"
   ]
  }
 ],
 "metadata": {
  "jupytext": {
   "cell_metadata_filter": "-all",
   "formats": "md:myst",
   "text_representation": {
    "extension": ".md",
    "format_name": "myst",
    "format_version": 0.13,
    "jupytext_version": "1.11.5"
   }
  },
  "kernelspec": {
   "display_name": "Python 3",
   "language": "python",
   "name": "python3"
  },
  "language_info": {
   "codemirror_mode": {
    "name": "ipython",
    "version": 3
   },
   "file_extension": ".py",
   "mimetype": "text/x-python",
   "name": "python",
   "nbconvert_exporter": "python",
   "pygments_lexer": "ipython3",
   "version": "3.9.12"
  },
  "source_map": [
   14
  ]
 },
 "nbformat": 4,
 "nbformat_minor": 5
}