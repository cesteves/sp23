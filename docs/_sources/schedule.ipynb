{
 "cells": [
  {
   "cell_type": "markdown",
   "id": "c787d1fd",
   "metadata": {},
   "source": [
    "### Locations\n",
    "\n",
    ":::{admonition} Overview\n",
    "\n",
    "```{list-table}\n",
    "\n",
    "* - {bdg-info}`Lecture`\n",
    "  -  Coastal Institute AUD 100 <br> {octicon}`calendar;1em;sd-text-info` Tuesday/Thursday 11:00 - 12:15p\n",
    "* - {bdg-warning}`Lab`\n",
    "  - Section L01 <br> {octicon}`calendar;1em;sd-text-info` Wednesday 10:00 - 11:45a <br><br> Section L02 <br> {octicon}`calendar;1em;sd-text-info` Friday 12:00 - 21:45p\n",
    "```\n",
    "\n",
    ":::\n",
    "\n",
    "# Schedule\n",
    "\n",
    "````{panels}\n",
    "Panel header 1\n",
    "^^^\n",
    "Panel body 1\n",
    "+++\n",
    "Panel footer 1\n",
    "---\n",
    "\n",
    "Panel header 2\n",
    "^^^\n",
    "Panel body 2\n",
    "+++\n",
    "Panel footer 2\n",
    "````"
   ]
  }
 ],
 "metadata": {
  "jupytext": {
   "cell_metadata_filter": "-all",
   "formats": "md:myst",
   "text_representation": {
    "extension": ".md",
    "format_name": "myst",
    "format_version": 0.13,
    "jupytext_version": "1.11.5"
   }
  },
  "kernelspec": {
   "display_name": "Python 3",
   "language": "python",
   "name": "python3"
  },
  "language_info": {
   "codemirror_mode": {
    "name": "ipython",
    "version": 3
   },
   "file_extension": ".py",
   "mimetype": "text/x-python",
   "name": "python",
   "nbconvert_exporter": "python",
   "pygments_lexer": "ipython3",
   "version": "3.9.12"
  },
  "source_map": [
   14
  ]
 },
 "nbformat": 4,
 "nbformat_minor": 5
}